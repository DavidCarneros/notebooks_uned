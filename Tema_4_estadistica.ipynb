{
  "nbformat": 4,
  "nbformat_minor": 0,
  "metadata": {
    "colab": {
      "name": "Tema 4 estadistica.ipynb",
      "provenance": [],
      "collapsed_sections": [],
      "include_colab_link": true
    },
    "kernelspec": {
      "name": "python3",
      "display_name": "Python 3"
    }
  },
  "cells": [
    {
      "cell_type": "markdown",
      "metadata": {
        "id": "view-in-github",
        "colab_type": "text"
      },
      "source": [
        "<a href=\"https://colab.research.google.com/github/DavidCarneros/notebooks_uned/blob/main/Tema_4_estadistica.ipynb\" target=\"_parent\"><img src=\"https://colab.research.google.com/assets/colab-badge.svg\" alt=\"Open In Colab\"/></a>"
      ]
    },
    {
      "cell_type": "markdown",
      "metadata": {
        "id": "hcQ_OiILJp1p"
      },
      "source": [
        "# Tema 4. Introducción al aprendizaje supervisado\n",
        "\n",
        "En este tema se verán algunos conceptos básicos relativos al aprendizaje supervisado, que está indicado en la modelización de una __variable respuesta__ $Y$ (explicativa, _output_ o resultado) a través de múltiples variables explicativas $X_1, X_2, ..., X_p$ (predictores, características o _input_). A lo largo de este tema se verá que, dentro del análisis supervisado, lo que determina el modelo a utilizar es la naturaleza de la variable respuesta.\n",
        "\n",
        "## Tipos de modelos \n",
        "\n",
        "Según la naturaleza de la variable respuestas, los principales modelos del análisis supervisado son:\n",
        "\n",
        "-  $Y$ __dicotómica__: regresión logística / análisis discriminante\n",
        "-  $Y$ __continua__: regresión lineal\n",
        "- $Y$ __nominal__: regresión logística politómica / análisis discriminante politómico.\n",
        "- $Y$ __ordinal__: regresión de riesgo de proporcionales (_odds proportional regression_).\n",
        "\n",
        "\n",
        "Por otro lado, los principales modelos de análisis supervisado se suelen enumerar según la dicotomía:\n",
        "\n",
        "- __Regresión__: en el caso de que la variable repuesta sea continua.\n",
        "- __Clasificación:__ en el caso de que la variable respuesta sea nominal.\n",
        "\n",
        "\n",
        "## Construcción del modelo\n",
        "\n",
        "La mayoría de los modelos establecen una relación de $Y$ en términos de $X = (X_1, X_2, ..., X_p)$ a través de una ecuación del tipo:\n",
        "\n",
        "$Y = f(X_1, X_2, ..., X_p) + \\varepsilon = f(X) + \\varepsilon$ \n",
        "\n",
        "donde $f$ es una función fija pero desconocida, que representa la información sistemática de las variables explicativas, y $\\varepsilon$ es una v.a. independiente de $X$ con $E[\\varepsilon]=0$, que representa una perturbación de la información sistemática de X. \n",
        "\n",
        "### Codificación de las variables explicativas\n",
        "\n",
        "La codificación de las variables explicativas para que formen parte de los modelos se hace de la forma siguiente:\n",
        "\n",
        "- Si son continuas, no es necesario hacer ninguna codificación. Se introducen en el modelo directamente con sus valores numéricos.\n",
        "\n",
        "- Si son nominales con *k* categorías, es necesario crear $k - 1$ variables ficticias (*dummy*). Existen varias formas de crear dichas variables. Uno de los métodos, es el dado en la siguiente tabla.\n",
        "\n",
        "| Variable nominal | Dummy_2 | Dummy_3 | ... | Dummy_k |\n",
        "|------------------|---------|---------|-----|---------|\n",
        "| Nivel 1          | 0       | 0       | ... |         |\n",
        "| Nivel 2          | 1       | 0       | ... |         |\n",
        "| Nivel 3          | 0       | 1       | ... |         |\n",
        "| ...              | ...     | ...     | ... |         |\n",
        "| Nivel k          | 0       | 0       | ... |         |\n",
        "\n",
        "- Si son ordinales, una posibilidad es tratarlas como nominales, pero se estaría perdiendo información. Sin embargo, lo más adecuado sería transformaciones ortogonales. No sería correcto introducirlas como si fueran continuas con valores numéricos asociados a los niveles ordenados. \n",
        "\n",
        "A menudo, también se suelen considerar transformaciones de variables explicativas e interacciones entre variables explicativas que se codifican como el producto de éstas. \n",
        "\n",
        "### Ajuste del modelo\n",
        "\n",
        "**Pendiente, quiero revisar en el libro porque hay una sección en la que explica modelos paramétricos y no paramétricos**"
      ]
    },
    {
      "cell_type": "code",
      "metadata": {
        "id": "QdoYzUJMEMU7"
      },
      "source": [
        ""
      ],
      "execution_count": null,
      "outputs": []
    },
    {
      "cell_type": "markdown",
      "metadata": {
        "id": "FfQsFjFHKXdd"
      },
      "source": [
        "## ¿Qué es el Aprendizaje Estadistico?\n",
        "\n",
        "\n",
        "---\n",
        "\n",
        "\n",
        "Imaginemos que somos una consultora estadística, y un cliente nos ha contratado para que le asesoremos sobre cómo mejorar las ventas de un determinado producto. Nos proporciona un *dataset* **_Advertising_** con las ventas de dicho producto en 200 mercados diferentes, junto con el presupuesto destinado a publicidad en cada uno de estos mercados para tres medios de comunicación: **TV**, **radio** y **periódico**. En la siguiente figura se respresenta gráficamente los datos de este *dataset*, utilizando miles de unidades como médida de las ventas y miles de dólares para el presupuesto destinado a cada uno de los medios de comunicación. La línea azul representa un simple modelo que se podría utiliar para predecir el número de ventas en función del presupuesto en publicidad. \n",
        "\n",
        "\n",
        "<center>\n",
        "<p>\n",
        "<img src=\"https://i.gyazo.com/c7706202939737f4b10d00b2d2818ab3.png\" width=\"100%\"/>\n",
        "<figcaption>Fig.1 - El dataset Advertising </figcaption>\n",
        "\n",
        "</p>\n",
        "</center>\n",
        "\n",
        "\n",
        "Si somos capaces de encontrar una relación enter la publicidad y las ventas, podremos aconsejar al cliente para que incremente sus ventas ajustando el presupuesto que destina a publicidad.  En otras palabras, nuestro objetivo es desarollar un modelo preciso que se utilice para hacer predicciones de ventas a partir de los datos de entrada.\n",
        "\n",
        "En este contexto, los datos sobre el presupuesto serían las **variables de entrada**, mientras que el número de ventas son la **variable salida**. Las variables de entrada se denotan con el símbolo $X$, con un subíndice para distinguir cada una de ellas. Por ejemplo, $X_1$ es el prespuesto destinado a TV, $X_2$ el prespuesto de radio y $X_3$ el presupuesto de periódico. La variable de salida, o variable dependiente, se denota con el símbolo $Y$. \n",
        "\n",
        "De manera más genérica, podemos escribir que existe una relación entre $Y$ y las $p$ diferentes variables predictivas, $X = (X_1, X_2, ..., X_p)$, como:\n",
        "\n",
        "$Y = f(X) + \\varepsilon$\n",
        "\n",
        "Donde $f$ es una función desconocida de $X_1, ..., X_p$, y \n",
        "$\\varepsilon$ es un término de error, independiente de $X$ y con media cero. En esta fórmula, $f$ representa la información sistemática que X proporciona sobre Y.\n",
        "\n",
        "\n"
      ]
    },
    {
      "cell_type": "markdown",
      "metadata": {
        "id": "GAj-69Bv90Gd"
      },
      "source": [
        "### ¿Por qué estimar $f$?\n",
        "\n",
        "Hay dos motivos principales para estimar $f$, la **predicción** y la **inferencia**.\n",
        "\n",
        "#### Predicción\n",
        "En muchas situaciones, no es sencillo obtener la salida $Y$ a partir de las entradas $X$. En estos casos, dado que el término de error promedia 0, el objetivo es determinar $\\hat{f}$ para estimar $f$ y poder predecir $\\hat{Y}$ a través de:\n",
        "\n",
        "$\\hat{Y} = \\hat{f}(X)$\n",
        "\n",
        "donde $\\hat{f}$ representa nuestra estimación para $\\hat{f}$ y $\\hat{Y}$ el resultado de predecir Y. En este contexto, $\\hat{f}$ se considera como una caja negra, en el sentido de que no nos tenemos que preocupar por la forma de $\\hat{f}$ si da como resultado predicciones precisas para $Y$.\n",
        "\n",
        "Una medida del error que se comete cuando se utiliza el modelo estimado es:\n",
        "\n",
        "$E[Y - \\hat{Y}]^{2}$\n",
        "\n",
        "Esta medida del error se puede descomponer de forma que aparezcan dos sumandos, según se detalla a continuación:\n",
        "\n",
        "$E[Y - \\hat{Y}]^{2} = E[f(X) + \\varepsilon - \\hat{f}(X)]^{2} = (f(X) - \\hat{f}(X))^{2} + V[\\varepsilon]$\n",
        "\n",
        "El primer sumando de dicha descomposición se denomina **error reducible**, y el segundo, **error irreducible**, ya que aunque se llegue a estimar $f$ de forma perfecta, siempre existará el error debido a la perturbación de $\\varepsilon$.\n",
        "\n",
        "El objetivo del libro es mostrar técnicas para estimar $f$ con la idea de minimizar el error reducible. \n",
        "\n",
        "\n",
        "#### Inferencia\n",
        "\n",
        "A menudo nos interesa comprender la forma en que $Y$ se ve afectado cuando $X_1, ..., X_p$ cambia. En esta situación, deseamos estimar $f$, pero nuestro objetivo no es necesariamente hacer predicciones para $Y$. En su lugar, queremos comprender la relación entre $X$ e $Y$, o más específicamente, comprender cómo cambia $Y$ en función de $X_1, .. ., X_p$. \n",
        "\n",
        "- *¿Qué predictores están asociados con la respuesta?* A menudo se da el caso de que sólo una pequeña fracción de los predictores disponibles están sustancialmente asociados con $Y$. La identificación de los pocos predictores importantes puede ser extremadamente útil.\n",
        "\n",
        "- *What is the relationship between the response and each predictor?* Algunos predictores pueden tener una relación positiva con $Y$, en el sentido de que aumentar el predictor está asociado con valores crecientes de $Y$. Otros predictores pueden tener la relación opuesta. Dependiendo de la complejidad, la relación entre la respuesta y un predictor dado también puede depender de los valores de los otros predictores.\n",
        "\n",
        "- *Can the relationship betweenYand each predictor be adequately sum-marized using a linear equation, or is the relationship more compli-cated?* Históricamente, la mayoría de los métodos para estimar $f$ han adoptado una forma lineal. En algunas situaciones, tal suposición es razonable o incluso deseable. Pero a menudo la verdadera relación es más complicada, en cuyo caso un modelo lineal puede no proporcionar una representación precisa de la relación entre las variables de entrada y salida.\n",
        "\n",
        "Por ejemplo, considere una empresa que esté interesada en realizar una campaña de marketing directo. El objetivo es identificar a las personas que responderán positivamente a un correo, basándose en las observaciones de las variables demográficas medidas en cada individuo. En este caso, las variables demográficas sirven como predictores y la respuesta a la campaña de marketing (ya sea positiva o negativa) sirve como resultado. La empresa no está interesada en obtener una comprensión profunda de las relaciones entre cada predictor individual y la respuesta; en cambio, la empresa simplemente quiere un modelo preciso para predecir la respuesta utilizando los predictores. Este es un ejemplo de modelado para predicción.\n",
        "\n",
        "Por el contrario, considerese los datos de **Advertising** puestos anteriormente. Uno puede estar interesado en responder preguntas como: *¿Qué medios contribuyen a las ventas?*, *¿Qué medios generan el mayor impulso en las ventas?* o *¿Cuánto aumento en las ventas está asociado con un dado un aumento en la publicidad televisiva?* Esta situación cae en el paradigma de inferencia. \n",
        "\n",
        "Dependiendo de si nuestro objetivo final es la predicción, la inferencia o una combinación de los dos, pueden ser apropiados diferentes métodos para estimar $f$. Por ejemplo, los modelos lineales permiten una inferencia relativamente simple e interpretable, pero pueden no producir predicciones tan precisas como algunos otros enfoques. En contraste, algunos de los enfoques altamente no lineales que discutimos en los últimos capítulos de este libro pueden potencialmente proporcionar predicciones bastante precisas para $Y$, pero esto se produce a expensas de un modelo menos interpretable para el que la inferencia es más desafiante."
      ]
    },
    {
      "cell_type": "markdown",
      "metadata": {
        "id": "I-0R0NJk-C20"
      },
      "source": [
        "### ¿Cómo estimar $f$?\n",
        "\n",
        "Tanto las aproximaciones lineales como las no lineales para estimar f tienen unas características compartidas. En esta sección se van a comentar esas características. Siempre asumiremos que hemos observado un conjunto de n puntos de datos diferentes. Por ejemplo en la siguiente imagene se observan 30 datos. Estas observaciones se denominan datos de entrenamiento porque usaremos las observaciones de datos de entrenamiento para entrenar o enseñar a nuestro método cómo estimar $f$ \n",
        "\n",
        "<center>\n",
        "<p>\n",
        "<img src=\"https://i.gyazo.com/f752cec4809f9f04ac890cc09be691e6.png\" width=\"100%\"/>\n",
        "<figcaption>Fig.2 </figcaption>\n",
        "\n",
        "</p>\n",
        "</center>\n",
        "\n",
        "\n",
        "\n",
        "Sea $x_ij$ el valor del j-ésimo predictor, o entrada, para la observación $i$, donde $i = 1,2, ..., n$ y $j = 1,2, ..., p$. En consecuencia, sea $y_i$ la variable de respuesta para la i-ésima observación. Entonces, nuestros datos de entrenamiento consisten en $\\{(x_1, y_1), (x_2, y_2), ..., (x_n, y_n)\\}$ donde $x_i = (x_i1, x_i2, ..., x_ip)^T$.\n",
        "\n",
        "Nuestro objetivo es aplicar un método de aprendizaje estadístico a los datos de entrenamiento para estimar la función desconocida $f$. En otras palabras, queremos encontrar una función $\\hat{f}$ tal que $Y ≈ \\hat{f}(X)$ para cualquier observación $(X, Y)$\n",
        "\n",
        "#### Modelos paramétricos\n",
        "\n",
        "Los métodos paramétricos implican un enfoque basado en modelos de dos pasos\n",
        "\n",
        "  1. Primero, hacemos una suposición sobre la forma funcional, o forma, de $f$. Por ejemplo, una suposición muy simple es que $f$ es lineal en $X$:\n",
        "\n",
        "  $$ f(X) = \\beta_0 + \\beta_1 X_1 + \\beta_2 X_2 + ... + \\beta_p X_p $$\n",
        "\n",
        "  Una vez que asumimos que $f$ es lineal, el problema de estimar $f$ se simplifica enormemente. En lugar de tener que estimar una función p-dimensional completamente arbitraria $f(X)$, solo se necesita estimar $p + 1$ coeficientes $\\beta_0, \\beta_1, ..., \\beta_p$.\n",
        "\n",
        "  2. Una vez que se ha seleccionado un modelo, necesitamos un procedimiento que utilice los datos de entrenamiento para adaptar el modelo. Después de seleccionar un modelo, necesitamos un procedimiento que use los datos de entrenamiento para *ajustar o entrenar* el modelo. En el caso del modelo lineal, necesitamos estimar los parámetros $\\beta_0, \\beta_1, ..., \\beta_p$. Es decir, queremos encontrar valores de estos parámetros tales que:\n",
        "\n",
        "  $$ Y ≈ \\beta_0 + \\beta_1 X_1 + \\beta_1 X_2 + ... + \\beta_p X_p $$\n",
        "\n",
        "  Una forma de ajustar el modelo visto en la imagen superior es mediante los *minimos cuadrados* como puede verse en la siguiente imagen.\n",
        "\n",
        "<center>\n",
        "<p>\n",
        "<img src=\"https://i.gyazo.com/5721db45d11f0f5fa9d573ebb4190206.png\" width=\"100%\"/>\n",
        "<figcaption>Fig.3 </figcaption>\n",
        "\n",
        "</p>\n",
        "</center>\n",
        "\n",
        "\n",
        "\n",
        "\n"
      ]
    },
    {
      "cell_type": "markdown",
      "metadata": {
        "id": "XovGhmbdWysS"
      },
      "source": [
        "\n",
        "El enfoque basado en modelos que se acaba de describir se denomina paramétrico; reduce el problema de estimar $f$ a uno de estimar un conjunto de parámetros. Asumir una forma paramétrica para $f$ simplifica el problema de estimar $f$ porque generalmente es mucho más fácil estimar un conjunto de parámetros, como $\\beta_0, \\beta_1, ..., \\beta_p$ en el modelo lineal, que ajustar un función arbitraria $f$. La posible desventaja de un enfoque paramétrico es que el modelo que elegimos generalmente no coincidirá con la verdadera forma desconocida de $f$. Si el modelo elegido está demasiado lejos de la verdadera $f$, la estimación nour será mala. Podemos intentar abordar este problema eligiendo modelos *flexibles* que puedan adaptarse a muchas formas funcionales posibles diferentes para $f$. Pero, en general, ajustar un modelo más flexible requiere estimar un número mayor de parámetros. Estos modelos más complejos pueden dar lugar a un fenómeno conocido como sobreajuste de los datos, lo que esencialmente significa que siguen los errores o el ruido demasiado de cerca."
      ]
    },
    {
      "cell_type": "markdown",
      "metadata": {
        "id": "3XFT9OxdSu4h"
      },
      "source": [
        "#### Modelos no paramétricos \n",
        "\n",
        "Los métodos no paramétricos no hacen suposiciones explícitas sobre la forma funcional de $f$. En su lugar, buscan una estimación de $f$ que se acerque lo más posible a los puntos de datos sin ser demasiado tosco o ondulado. Tales enfoques pueden tener una gran ventaja sobre los enfoques paramétricos: al evitar la suposición de una forma funcional particular para $f$, tienen el potencial de ajustarse con precisión a una gama más amplia de formas posibles para $f$. Cualquier enfoque paramétrico trae consigo la posibilidad de que la forma funcional utilizada para estimar $f$ sea muy diferente de la verdadera $f$, en cuyo caso el modelo resultante no se ajustará bien a los datos. Por el contrario, los enfoques no paramétricos evitan completamente este peligro, ya que esencialmente no se hace ninguna suposición sobre la forma de $f$. Pero los enfoques no paramétricos adolecen de una gran desventaja: dado que no reducen el problema de estimar $f$ a un número pequeño de parámetros, se requiere un número muy grande de observaciones (normalmente se necesita mucho más para un enfoque paramétrico) en para obtener una estimación precisa de $f$."
      ]
    },
    {
      "cell_type": "markdown",
      "metadata": {
        "id": "ae1BzBddVRAD"
      },
      "source": [
        "<center>\n",
        "<p>\n",
        "<img src=\"https://i.gyazo.com/02962255734ad83ef2cb3ef0c289c267.png\" width=\"45%\"/>\n",
        "  <figcaption>Fig.1 - Prueba</figcaption>\n",
        "\n",
        "<img src=\"https://i.gyazo.com/4f59cd390d787a79cc073b0e8921dc5e.png\" width=\"45%\"/>\n",
        "  <figcaption>Fig.1 - Trulli, Puglia, Italy</figcaption>\n",
        "</p>\n",
        "</center>\n",
        "\n",
        "En la Figura superior izquierda se muestra un ejemplo de un enfoque no paramétrico para ajustar los datos de **Income**. Se usa una *thin-plate spline* para estimar $f$. Este enfoque no impone ningún modelo preespecificado en $f$. En su lugar, intenta producir una estimación de $f$ que sea lo más cercana posible a los datos observados, sujeto al ajuste, es decir, la superficie amarilla en la superior izquerda."
      ]
    },
    {
      "cell_type": "markdown",
      "metadata": {
        "id": "tgd_JEn7KeS-"
      },
      "source": [
        "## Evaluación de la precisión del modelo"
      ]
    }
  ]
}