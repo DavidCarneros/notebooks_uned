{
  "nbformat": 4,
  "nbformat_minor": 0,
  "metadata": {
    "colab": {
      "name": "Tema 4 estadistica.ipynb",
      "provenance": [],
      "collapsed_sections": [],
      "include_colab_link": true
    },
    "kernelspec": {
      "name": "python3",
      "display_name": "Python 3"
    }
  },
  "cells": [
    {
      "cell_type": "markdown",
      "metadata": {
        "id": "view-in-github",
        "colab_type": "text"
      },
      "source": [
        "<a href=\"https://colab.research.google.com/github/DavidCarneros/notebooks_uned/blob/main/Tema_4_estadistica.ipynb\" target=\"_parent\"><img src=\"https://colab.research.google.com/assets/colab-badge.svg\" alt=\"Open In Colab\"/></a>"
      ]
    },
    {
      "cell_type": "markdown",
      "metadata": {
        "id": "hcQ_OiILJp1p"
      },
      "source": [
        "# Tema 4 Introducción al aprendizaje supervisado"
      ]
    },
    {
      "cell_type": "markdown",
      "metadata": {
        "id": "FfQsFjFHKXdd"
      },
      "source": [
        "## ¿Qué es el aprendizaje estadistico?"
      ]
    },
    {
      "cell_type": "markdown",
      "metadata": {
        "id": "XStrb6D4Klip"
      },
      "source": [
        "Texto de prueba"
      ]
    },
    {
      "cell_type": "markdown",
      "metadata": {
        "id": "tgd_JEn7KeS-"
      },
      "source": [
        "## Evaluación de la precisión del modelo"
      ]
    },
    {
      "cell_type": "markdown",
      "metadata": {
        "id": "jwVsfYYYKpAj"
      },
      "source": [
        "Texto de prueba de la otra seccion "
      ]
    },
    {
      "cell_type": "code",
      "metadata": {
        "id": "p1bDOpm9LQew",
        "outputId": "843ea012-dca8-4607-f2ce-982e5d228e07",
        "colab": {
          "base_uri": "https://localhost:8080/"
        }
      },
      "source": [
        "print(\"Hello world!\")"
      ],
      "execution_count": 1,
      "outputs": [
        {
          "output_type": "stream",
          "text": [
            "Hello world!\n"
          ],
          "name": "stdout"
        }
      ]
    },
    {
      "cell_type": "code",
      "metadata": {
        "id": "Hjz9V5wnKqdz",
        "outputId": "84752db6-5270-4d2e-ac76-a9d233315013",
        "colab": {
          "base_uri": "https://localhost:8080/"
        }
      },
      "source": [
        "print(\"hola\")"
      ],
      "execution_count": null,
      "outputs": [
        {
          "output_type": "stream",
          "text": [
            "hola\n"
          ],
          "name": "stdout"
        }
      ]
    }
  ]
}