{
  "nbformat": 4,
  "nbformat_minor": 0,
  "metadata": {
    "colab": {
      "name": "Tema 5 estadistica.ipynb",
      "provenance": [],
      "collapsed_sections": [
        "Ya-kcB5Q3oen",
        "lZvybgtJ3RLQ",
        "qgwwXW6u4Kfq"
      ],
      "authorship_tag": "ABX9TyNnT56jzf7YpGcLO0wHAD0a",
      "include_colab_link": true
    },
    "kernelspec": {
      "name": "python3",
      "display_name": "Python 3"
    }
  },
  "cells": [
    {
      "cell_type": "markdown",
      "metadata": {
        "id": "view-in-github",
        "colab_type": "text"
      },
      "source": [
        "<a href=\"https://colab.research.google.com/github/DavidCarneros/notebooks_uned/blob/main/Tema_5_estadistica.ipynb\" target=\"_parent\"><img src=\"https://colab.research.google.com/assets/colab-badge.svg\" alt=\"Open In Colab\"/></a>"
      ]
    },
    {
      "cell_type": "markdown",
      "metadata": {
        "id": "cx7nJz1r3E5h"
      },
      "source": [
        "# **Tema 5: Regresión lineal**"
      ]
    },
    {
      "cell_type": "markdown",
      "metadata": {
        "id": "k9kXak_U3Mmj"
      },
      "source": [
        "## Regresión lineal simple"
      ]
    },
    {
      "cell_type": "markdown",
      "metadata": {
        "id": "Ruo-73X47NEa"
      },
      "source": [
        "La *regresión lineal simple* hace honor a su nombre: es un enfoque muy sencillo para predecir una respuesta cuantitativa $Y$ sobre la base de una única variable predictora $X$. Asume que hay aproximadamente una relación lineal entre $X$ e $Y$. Matemáticamente, podemos escribir esta relación lineal como:\n",
        "\n",
        "$$ Y \\approx \\beta_0 + \\beta_1 X $$\n",
        "\n",
        "Por ejemplo, $X$ puede representar la publicidad de TVa e $Y$ puede representar las ventas. Entonces podemos hacer una regresión de las ventas a la TV ajustando el modelo:\n",
        "\n",
        "$$ sales \\approx \\beta_0 + \\beta_1 TV $$\n",
        "\n",
        "Una vez que hemos usado nuestros datos de entrenamiento para producir estimaciones $ \\hat{\\beta}_0$ y $\\hat{\\beta}_1 $ para los coeficientes del modelo, podemos predecir las ventas futuras sobre la base de un valor particular de la publicidad televisiva calculando \n",
        "\n",
        "Una vez que hemos usado nuestros datos de entrenamiento para producir estimaciones $ \\hat{\\beta}_0$ y $\\hat{\\beta}_1 $ para los coeficientes del modelo, podemos predecir las ventas futuras sobre la base de un valor particular de la publicidad televisiva calculando donde $\\hat{y}$ indica una predicción de Y sobre la base de $X = x$. Aquí usamos un símbolo de sombrero, $ˆ$, para denotar el valor estimado de un parámetro o coeficiente desconocido, o para denotar el valor predicho de la respuesta.\n",
        "\n",
        "$$ \\hat{y} = \\hat{\\beta}_0 + \\hat{\\beta}_1 x$$"
      ]
    },
    {
      "cell_type": "markdown",
      "metadata": {
        "id": "egnVCaiH3eDO"
      },
      "source": [
        "### Estimación de los coeficientes"
      ]
    },
    {
      "cell_type": "markdown",
      "metadata": {
        "id": "5g1FPxC--yqi"
      },
      "source": [
        "$\\beta_0$ y $\\beta_1$ son desconocidos, debemos usar datos para estimar los coeficientes. Representamos $n$ pares de observación, cada uno de los cuales consta de una medida de $X$ y una medida de $Y$. $\\{ (x_1,y_1), (x_2, y_2), ..., (x_n,y_n)\\}$. Nuestro objetivo es obtener estimaciones de coeficientes $\\hat{\\beta}_0$ y $\\hat{\\beta}_1$ de manera que el modelo lineal se ajuste bien a los datos disponibles. \n",
        "\n",
        "Sea $\\hat{y}_i = \\hat{\\beta}_0 + \\hat{\\beta}_1 x_1$ la predicción para $Y$ basada en el enésimo valor de $X$. Entonces $e_i = y_i − \\hat{y}_i$ representa el iésimo residual: esta es la diferencia entre el iésimo valor de respuesta observado y el iésimo valor de respuesta que predice nuestro modelo lineal . Definimos la suma de cuadrados residual (RSS) como:\n",
        "\n",
        "$$ RSS = e_1^2 + e_2^2 + ... + e_n^2$$\n",
        "\n",
        "o equivalentemente a:\n",
        "\n",
        "$$ RSS  = (y_1 - \\hat{\\beta}_0 - \\hat{\\beta}_1 x_1)^2 + (y_2 - \\hat{\\beta}_0 - \\hat{\\beta}_1 x_2)^2 + ... + (y_n - \\hat{\\beta}_0 - \\hat{\\beta}_1 x_n)^2 $$\n",
        "\n",
        "El enfoque de mínimos cuadrados elige $\\hat{\\beta}_0$ y $\\hat{\\beta}_1$ para minimizar el RSS. Usando algo de cálculo, se puede demostrar que los minimizadores son:\n",
        "\n",
        "$$ \\hat{\\beta}_1 = \\frac{ \\sum_{i=1}^n (x_i - \\bar{x})(y_i - \\bar{y})}{\\sum_{i=1}^n (x_i - \\bar{x})^2} $$\n",
        "\n",
        "$$ \\hat{\\beta}_0 = \\hat{y} - \\hat{\\beta}_1 \\bar{x} $$\n",
        "\n",
        "Donde $\\bar{y} = \\frac{1}{n} \\sum_{i=1}^n y_i$ y $\\bar{x} = \\frac{1}{n} \\sum_{i=1}^n x_i$ son las medias muestrales. En otras palabras, define las estimaciones del coeficiente de mínimos cuadrados para la regresión lineal simple.\n",
        "\n",
        "<center>\n",
        "<p>\n",
        "<img src=\"https://i.gyazo.com/13b3d0c087e09c4c016ace594efd02c2.png \" width=\"57%\"/>\n",
        "<figcaption>Fig.1 - Regresión lineal simple para el dataset Advertising </figcaption>\n",
        "</p>\n",
        "</center>\n",
        "\n",
        "La Figura 1 muestra el ajuste de regresión lineal simple a los datos de Advertising. En la Figura 2, hemos calculado RSS para una serie de valores de $\\beta_0$ y $\\beta_1$, utilizando los datos publicitarios con ventas como respuesta y TV como predictor. En cada gráfico, el punto rojo representa el par de estimaciones de mínimos cuadrados $(\\hat{\\beta}_0, \\hat{\\beta}_1)$. Estos valores minimizan claramente el RSS\n",
        "\n",
        "\n",
        "<center>\n",
        "<p>\n",
        "<img src=\"https://i.gyazo.com/8ac35f0fd7fba5cb05adb99fa6ec6561.png\" width=\"57%\"/>\n",
        "<figcaption>Fig.2 - RSS sobre el dataset de Advertising </figcaption>\n",
        "</p>\n",
        "</center>"
      ]
    },
    {
      "cell_type": "markdown",
      "metadata": {
        "id": "FJmt0cmg3hVr"
      },
      "source": [
        "### Evaluar la precisión de las estimaciones de coeficientes"
      ]
    },
    {
      "cell_type": "markdown",
      "metadata": {
        "id": "iA8WHsLSTGP6"
      },
      "source": [
        "Suponemos que la verdadera relación entre $X$ e $Y$ toma la forma $Y = f (X) + \\epsilon$. Si $f$ debe aproximarse mediante una función lineal, entonces podemos escribir esta relación como: \n",
        "\n",
        "$$ Y = \\beta_0 + \\beta_1X + \\epsilon$$\n",
        "\n",
        "El modelo dado por la ecuación superior define la línea de regresión de la población, que es la mejor aproximación lineal a la verdadera relación entre $X$ e $Y$. El panel de la izquierda de la Figura 3 muestra estas dos líneas en un ejemplo simulado simple. Creamos 100 X aleatorios y generamos 100 Y correspondientes del modelo.\n",
        "\n",
        "$$ Y = 2 + 3X + \\epsilon$$\n",
        "\n",
        "donde $\\epsilon$ se generó a partir de una distribución normal con media cero. La línea roja en el panel de la izquierda de la Figura 3 muestra la relación verdadera, $f (X) = 2 + 3X$, mientras que la línea azul es la estimación de mínimos cuadrados basada en los datos observados. La verdadera relación generalmente no se conoce para datos reales, pero la línea de mínimos cuadrados siempre se puede calcular utilizando las estimaciones de coeficientes en aplicaciones reales, tenemos acceso a un conjunto de observaciones a partir de las cuales podemos calcular la línea de mínimos cuadrados. Observe que los diferentes conjuntos de datos generados a partir del mismo modelo verdadero dan como resultado líneas de mínimos cuadrados ligeramente diferentes, pero la línea de regresión de la población no observada no cambia\n",
        "\n",
        "<center>\n",
        "<p>\n",
        "<img src=\"https://i.gyazo.com/51631f17864e09eea494963e71dd4925.png\" width=\"57%\"/>\n",
        "<figcaption>Fig.3 - Dataset simulado </figcaption>\n",
        "</p>\n",
        "</center>\n",
        "\n",
        "Por ejemplo, supongamos que estamos interesados en conocer la media poblacional $ \\mu $ de alguna variable aleatoria $Y$. Desafortunadamente, $\\mu$ es desconocido, pero tenemos acceso a $n$ observaciones de $Y$, que podemos escribir como $y_1, ..., y_n$, y que podemos usar para estimar $\\mu$. Una estimación razonable es $\\hat{\\mu} = \\bar{y}$, donde $ \\hat{y} = \\frac{1}{n}\\sum_{i_1}^n y_i$ es la media de la muestra. La media de la muestra y la media de la población son diferentes, pero en general la media de la muestra proporcionará una buena estimación de la media de la población. De la misma manera, los coeficientes desconocidos $\\beta_0$ y $\\beta_1$ en la regresión lineal definen la línea de regresión poblacional.\n",
        "\n",
        "La analogía entre la regresión lineal y la estimación de la media de una variable aleatoria es adecuada basada en el concepto de sesgo Si usamos la media muestral $\\hat{\\mu}$ para estimar $\\mu$, esta estimación es insesgada, en el sentido de que, en promedio, esperamos $\\hat{\\mu}$ para igualar $\\mu$. Significa que sobre la base de un conjunto particular de observaciones $y_1, ..., y_n$, $\\hat{\\mu}$ podría sobreestimar $\\mu$, y sobre la base de otro conjunto de observaciones, $\\hat{\\mu}$ podría subestimar $\\mu$. Pero si pudiéramos promediar una gran cantidad de estimaciones de $\\mu$ obtenidas a partir de una gran cantidad de conjuntos de observaciones, entonces esta media sería exactamente igual a $\\mu$. Por lo tanto, un estimador insesgado no sobreestima ni subestima sistemáticamente el parámetro verdadero.\n",
        "\n",
        "Continuamos con la analogía con la estimación de la media poblacional $\\mu$ de una variable aleatoria $Y$. Una pregunta natural es la siguiente: ¿cuán precisa es la media muestral $\\hat{\\mu}$ como una estimación de $\\mu$? Hemos establecido que el promedio de $\\hat{\\mu}$ sobre muchos conjuntos de datos será muy cercano a $\\mu$, pero que una sola estimación $\\hat{\\mu}$ puede ser una subestimación o sobreestimación sustancial de $\\mu$. ¿Qué tan lejos estará esa estimación única de $\\hat{\\mu}$? En general, respondemos a esta pregunta calculando el error estándar de $\\hat{\\mu}$, escrito como $SE (\\hat{\\mu})$. Tenemos la conocida fórmula: \n",
        "\n",
        "$$ Var(\\hat{\\mu}) = SE(\\hat{\\mu})^2 = \\frac{\\sigma^2}{n} $$\n",
        "\n",
        "donde $\\sigma$ es la desviación estándar de cada una de las realizaciones $y_i$ de $Y$. El error estándar nos dice la cantidad promedio en la que esta estimación $\\hat{\\mu}$ difiere del valor real de $\\mu$. Para calcular los errores estándar asociados con $\\hat{\\beta}_0$ y $\\hat{\\beta}_1$, usamos las siguientes fórmulas:\n",
        "\n",
        "$$ SE(\\hat{\\beta}_0)^2 = \\sigma^2 \\left[ \\frac{1}{n} + \\frac{\\bar{x}^2}{\\sum_{i=1}^n (x_i - \\bar{x})^2} \\right]$$\n",
        "$$ SE(\\hat{\\beta}_1)^2 =  \\frac{1}{n} + \\frac{\\sigma^2}{\\sum_{i=1}^n (x_i - \\bar{x})^2} $$\n",
        "\n",
        "donde $\\sigma^2 = Var(\\epsilon)$. Para que estas fórmulas sean estrictamente válidas, debemos asumir que los errores $\\epsilon_i$ para cada observación no están correlacionados con la varianza común $\\sigma^2$. También vemos que $SE(\\hat{\\beta_0})$ sería lo mismo que $SE(\\hat{\\mu})$ si $\\bar{x}$ fuera cero (en cuyo caso $\\hat{\\beta_0}$ sería igual a $\\bar{y}$). En general, $\\sigma^2$ no se conoce, pero se puede estimar a partir de los datos. La estimación de $\\sigma$ se conoce como error estándar residual y viene dada por la fórmula $RSE = \\sqrt{\\frac{RSS}{n-2}}$. Estrictamente hablando, cuando se estima $\\sigma^2$ a partir de los datos, debemos escribir $\\hat{SE}(\\hat{\\beta}_1)$ para indicar que se ha realizado una estimación, pero para simplificar la notación, eliminaremos este “sombrero” adicional.\n",
        "\n",
        "Los errores estándar se pueden utilizar para calcular los intervalos de confianza. Un intervalo de confianza del 95% se define como un rango de valores tal que, con una probabilidad del 95%, el rango contendrá el verdadero valor desconocido del parámetro. Para la regresión lineal, el intervalo de confianza del 95% para $\\beta_1$ toma aproximadamente la forma:\n",
        "\n",
        "$$ \\hat{\\beta}_1 \\mp 2·SE(\\hat{\\beta}_1) $$\n",
        "\n",
        "contendrá el valor real de $\\beta_1$. De manera similar, un intervalo de confianza para $\\beta_0$ aproximadamente toma la forma:\n",
        "\n",
        "$$ \\hat{\\beta}_0 \\mp 2·SE(\\hat{\\beta}_0) $$\n",
        "\n",
        "En el caso de los datos publicitarios, el intervalo de confianza del 95% para $\\beta_0$ es [6.130,7.935] y el intervalo de confianza del 95% para $\\beta_1$ es [0.042,0.053]. Por lo tanto, podemos concluir que en ausencia de publicidad, las ventas , en promedio, se ubican entre 6,130 y 7,940 unidades. Además, por cada aumento de $ 1,000 en publicidad televisiva, habrá un aumento promedio en las ventas de entre 42 y 53 unidades.\n",
        "\n",
        "Los errores estándar también se pueden utilizar para realizar pruebas de hipótesis sobre los coeficientes de la prueba de hipótesis. La prueba de hipótesis más común implica probar la hipótesis nula de:\n",
        "\n",
        "<center>\n",
        "$H_0:$ No hay relacion entre $X$ e $Y$\n",
        "\n",
        "$H_a$: Hay alguna relacion entre $X$ e $Y$\n",
        "</center>\n",
        "\n",
        "Matematicamente: $H_0 : \\beta_1 = 0$; $H_a = \\beta_1 \\ne 0$ ya que si $\\beta_1 = 0$ entonces el modelo se reduce a $Y = \\beta_0 + \\epsilon$, y $X$ no está asociado con $Y$. Para probar la hipótesis nula, necesitamos determinar si $\\hat{\\beta}_1$, nuestra estimación para $\\beta_1$, está lo suficientemente lejos de cero que podemos estar seguros de que $\\beta_1$ no es cero. Esto, por supuesto, depende de la precisión de $\\hat{\\beta}_1$, es decir, depende de $SE(\\hat{\\beta}_1)$. Si $SE(\\hat{\\beta}_1)$ es pequeño, entonces incluso valores relativamente pequeños de $\\hat{\\beta}_1$ pueden proporcionar una fuerte evidencia de que $\\beta_1 \\ne 0$ y, por lo tanto, existe una relación entre $X$ e $Y$. Por el contrario, si $SE(\\hat{\\beta}_1)$ es grande, entonces $\\hat{\\beta}_1$ debe ser grande en valor absoluto para que podamos rechazar la hipótesis nula. En la práctica, calculamos un estadístico t dado por:\n",
        "\n",
        "$$ t = \\frac{\\hat{\\beta}_1 - 0}{SE(\\hat{\\beta}_1)}$$\n",
        "\n",
        "que mide el número de desviaciones estándar en las que $\\hat{\\beta}_1$ está alejado de 0. Si realmente no hay relación entre $X$ e $Y$, entonces esperamos que tenga una distribución $t$ con $n − 2$ grados de libertad. La distribución $t$ tiene forma de campana y para valores de $n$ superiores a aproximadamente 30 es bastante similar a la distribución normal. En consecuencia, es una cuestión sencilla calcular la probabilidad de observar cualquier número igual a $|t|$ o mayor en valor absoluto, asumiendo $\\beta_1 = 0$. A esta probabilidad la llamamos *p-valor*. \n",
        "\n",
        "En términos generales, interpretamos el *p-valor* de la siguiente manera: un *p-valor* pequeño indica que es poco probable que se observe una asociación tan sustancial entre el predictor y la respuesta debida al azar, en ausencia de una asociación real entre el predictor y el factor pronóstico. respuesta. Por lo tanto, si vemos un valor *p-valor*, podemos inferir que existe una asociación entre el predictor y la respuesta. Rechazamos la hipótesis nula, es decir, declaramos que existe una relación entre $X$ e $Y$. \n",
        "\n",
        "<center>\n",
        "<p>\n",
        "<img src=\"https://i.gyazo.com/20280d3d686b3099c55a7a1672af0a94.png\" width=\"57%\"/>\n",
        "<figcaption>Fig.4 - Coeficientes del dataset Advertising </figcaption>\n",
        "</p>\n",
        "</center>\n",
        "\n",
        "La Figura 4 proporciona detalles del modelo de mínimos cuadrados para la regresión del número de unidades vendidas en el presupuesto de publicidad televisiva para los datos de Advertising. Observe que los coeficientes para $\\hat{\\beta}_0$ y $\\hat{\\beta}_1$ son muy grandes en relación con sus errores estándar, por lo que los estadísticos $t$ son también grandes; las probabilidades de ver tales valores si $H_0$ es verdadera son virtualmente cero. Por tanto, podemos concluir que $\\beta_0 = 0 $ y $\\beta_1 = 0 $. Un *p-valor* pequeño para la intersección indica que podemos rechazar la hipótesis nula de que $\\beta_0 = 0$, y un *p-valor* pequeño para TV indica que podemos rechazar la hipótesis nula de que $\\beta_1 = 0$.\n"
      ]
    },
    {
      "cell_type": "markdown",
      "metadata": {
        "id": "Ya-kcB5Q3oen"
      },
      "source": [
        "### Evaluación de la precisión del modelo"
      ]
    },
    {
      "cell_type": "markdown",
      "metadata": {
        "id": "jIK1c4PR3t7z"
      },
      "source": [
        "#### Error residual estandar"
      ]
    },
    {
      "cell_type": "markdown",
      "metadata": {
        "id": "K5YZ5e6a3w0I"
      },
      "source": [
        "#### Estadistico $R^2$ "
      ]
    },
    {
      "cell_type": "markdown",
      "metadata": {
        "id": "lZvybgtJ3RLQ"
      },
      "source": [
        "## Regresión lineal multiple"
      ]
    },
    {
      "cell_type": "markdown",
      "metadata": {
        "id": "TyYeuH-H36-h"
      },
      "source": [
        "### Estimación de los coeficientes"
      ]
    },
    {
      "cell_type": "markdown",
      "metadata": {
        "id": "vKHKB5133_uH"
      },
      "source": [
        "### Preguntas importantes"
      ]
    },
    {
      "cell_type": "markdown",
      "metadata": {
        "id": "qgwwXW6u4Kfq"
      },
      "source": [
        "\n",
        "## Otras consideraciones en el modelo de regresión\n"
      ]
    },
    {
      "cell_type": "markdown",
      "metadata": {
        "id": "YZUIPcc34Ozj"
      },
      "source": [
        "#### Predictores cualitativos"
      ]
    },
    {
      "cell_type": "markdown",
      "metadata": {
        "id": "gsWzOg5J4O4c"
      },
      "source": [
        "#### Predictores solo con dos niveles"
      ]
    },
    {
      "cell_type": "markdown",
      "metadata": {
        "id": "QS7itaDa4O75"
      },
      "source": [
        "#### Predictores cualitativos con más de dos niveles"
      ]
    },
    {
      "cell_type": "markdown",
      "metadata": {
        "id": "mVURzszC4O-4"
      },
      "source": [
        "### Extensiones del modelo lineal\n",
        "\n"
      ]
    },
    {
      "cell_type": "markdown",
      "metadata": {
        "id": "b9ZEyEOX4PBi"
      },
      "source": [
        "#### Eliminación de la suposición aditiva"
      ]
    },
    {
      "cell_type": "markdown",
      "metadata": {
        "id": "q44sabnh4PEe"
      },
      "source": [
        "\n",
        "#### Relaciones no lineales\n"
      ]
    },
    {
      "cell_type": "markdown",
      "metadata": {
        "id": "nc682GVO5AbX"
      },
      "source": [
        "### Problemas potenciales"
      ]
    },
    {
      "cell_type": "markdown",
      "metadata": {
        "id": "D_RrexXv5MvW"
      },
      "source": [
        "## Lab: Linear Regression "
      ]
    },
    {
      "cell_type": "code",
      "metadata": {
        "id": "4mr3-LyC5B7F"
      },
      "source": [
        ""
      ],
      "execution_count": null,
      "outputs": []
    }
  ]
}