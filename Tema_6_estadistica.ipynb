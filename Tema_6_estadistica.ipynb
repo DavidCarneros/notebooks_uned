{
  "nbformat": 4,
  "nbformat_minor": 0,
  "metadata": {
    "colab": {
      "name": "Tema 6 estadistica.ipynb",
      "provenance": [],
      "collapsed_sections": [],
      "authorship_tag": "ABX9TyNKcc3HSFGgKCJ5YLVvxRQ5",
      "include_colab_link": true
    },
    "kernelspec": {
      "name": "python3",
      "display_name": "Python 3"
    }
  },
  "cells": [
    {
      "cell_type": "markdown",
      "metadata": {
        "id": "view-in-github",
        "colab_type": "text"
      },
      "source": [
        "<a href=\"https://colab.research.google.com/github/DavidCarneros/notebooks_uned/blob/main/Tema_6_estadistica.ipynb\" target=\"_parent\"><img src=\"https://colab.research.google.com/assets/colab-badge.svg\" alt=\"Open In Colab\"/></a>"
      ]
    },
    {
      "cell_type": "markdown",
      "metadata": {
        "id": "MaUUlmF6Y0tu"
      },
      "source": [
        "# Tema 6. Variantes del modelo de regresión lineal"
      ]
    },
    {
      "cell_type": "markdown",
      "metadata": {
        "id": "o_aMpEjPa8fm"
      },
      "source": [
        "## Métodos de contracción "
      ]
    },
    {
      "cell_type": "markdown",
      "metadata": {
        "id": "LuX2j1Ica8kw"
      },
      "source": [
        "### Regresión de cresta (Ridge Regression)"
      ]
    },
    {
      "cell_type": "markdown",
      "metadata": {
        "id": "M6Da5u-Ra8yH"
      },
      "source": [
        "#### Una aplicación a los datos crediticios \n",
        "\n",
        "\n",
        "#### ¿Por qué mejora la regresión de crestas con respecto a los mínimos cuadrados?\n",
        "\n"
      ]
    },
    {
      "cell_type": "markdown",
      "metadata": {
        "id": "-zUPIiB5a8vv"
      },
      "source": [
        "### El lasso"
      ]
    },
    {
      "cell_type": "markdown",
      "metadata": {
        "id": "tVATKzrDa8tb"
      },
      "source": [
        "#### Otra formulación para la regresión de crestas (Ridge Regression) y el lasso\n",
        "\n",
        "#### La propiedad de selección de variable del lasso\n",
        "\n",
        "#### Comparación de la regresión de lasso y cresta (ridge)\n",
        "\n",
        "\n",
        "#### Un caso especial simple para la regresión de crestas y el lasso\n",
        "\n",
        "\n",
        "\n"
      ]
    },
    {
      "cell_type": "markdown",
      "metadata": {
        "id": "53MgC654a8q-"
      },
      "source": [
        "### Selección del parámetro de afinación "
      ]
    },
    {
      "cell_type": "markdown",
      "metadata": {
        "id": "hv-peoeRa8oy"
      },
      "source": [
        "## Métodos de reducción de dimensiones"
      ]
    },
    {
      "cell_type": "markdown",
      "metadata": {
        "id": "11-JpSQJcciR"
      },
      "source": [
        "### Componentes Principales de regresión\n",
        "\n",
        "#### Una descripción general del análisis de componentes principales\n",
        "\n",
        "#### El enfoque a los componentes principales de regresión\n",
        "\n",
        "\n",
        "\n"
      ]
    },
    {
      "cell_type": "markdown",
      "metadata": {
        "id": "f5lTvRj_ccn4"
      },
      "source": [
        "### Mínimos cuadrados parciales\n",
        "\n"
      ]
    },
    {
      "cell_type": "markdown",
      "metadata": {
        "id": "XCu8XZpedXU-"
      },
      "source": [
        "### Consideraciones en grandes dimensiones \n",
        "\n",
        "#### Datos de alta dimensión\n",
        "\n",
        "#### ¿Qué sale mal en las dimensiones altas?\n",
        "\n",
        "#### Regresión en altas dimensiones\n",
        "\n",
        "#### Interpretación de resultados en grandes dimensiones"
      ]
    },
    {
      "cell_type": "markdown",
      "metadata": {
        "id": "viEOxPLNdXcA"
      },
      "source": [
        "## Lab: Regresión de crestas y lazo"
      ]
    },
    {
      "cell_type": "markdown",
      "metadata": {
        "id": "7qBxEhwDdXYt"
      },
      "source": [
        ""
      ]
    },
    {
      "cell_type": "markdown",
      "metadata": {
        "id": "JVQkiRL0dXMJ"
      },
      "source": [
        ""
      ]
    },
    {
      "cell_type": "code",
      "metadata": {
        "id": "Dv0JUpGWY3JN"
      },
      "source": [
        ""
      ],
      "execution_count": null,
      "outputs": []
    }
  ]
}